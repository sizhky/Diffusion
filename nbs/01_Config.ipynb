{
 "cells": [
  {
   "cell_type": "markdown",
   "metadata": {},
   "source": [
    "# Config\n",
    "\n",
    "> Dev Notebook"
   ]
  },
  {
   "cell_type": "code",
   "execution_count": 1,
   "metadata": {},
   "outputs": [],
   "source": [
    "# | default_exp config"
   ]
  },
  {
   "cell_type": "code",
   "execution_count": 2,
   "metadata": {},
   "outputs": [
    {
     "data": {
      "application/javascript": [
       "\n",
       "            setTimeout(function() {\n",
       "                var nbb_cell_id = 2;\n",
       "                var nbb_unformatted_code = \"# | hide\\n# | hide\\n%reload_ext autoreload\\n%reload_ext nb_black\\n%autoreload 2\\nfrom nbdev.showdoc import *\\nimport sys\\n\\n__root = \\\"../\\\"\\nsys.path.append(__root)\";\n",
       "                var nbb_formatted_code = \"# | hide\\n# | hide\\n%reload_ext autoreload\\n%reload_ext nb_black\\n%autoreload 2\\nfrom nbdev.showdoc import *\\nimport sys\\n\\n__root = \\\"../\\\"\\nsys.path.append(__root)\";\n",
       "                var nbb_cells = Jupyter.notebook.get_cells();\n",
       "                for (var i = 0; i < nbb_cells.length; ++i) {\n",
       "                    if (nbb_cells[i].input_prompt_number == nbb_cell_id) {\n",
       "                        if (nbb_cells[i].get_text() == nbb_unformatted_code) {\n",
       "                             nbb_cells[i].set_text(nbb_formatted_code);\n",
       "                        }\n",
       "                        break;\n",
       "                    }\n",
       "                }\n",
       "            }, 500);\n",
       "            "
      ],
      "text/plain": [
       "<IPython.core.display.Javascript object>"
      ]
     },
     "metadata": {},
     "output_type": "display_data"
    }
   ],
   "source": [
    "# | hide\n",
    "# | hide\n",
    "%reload_ext autoreload\n",
    "%reload_ext nb_black\n",
    "%autoreload 2\n",
    "from nbdev.showdoc import *\n",
    "import sys\n",
    "\n",
    "__root = \"../\"\n",
    "sys.path.append(__root)"
   ]
  },
  {
   "cell_type": "code",
   "execution_count": 3,
   "metadata": {},
   "outputs": [
    {
     "data": {
      "application/javascript": [
       "\n",
       "            setTimeout(function() {\n",
       "                var nbb_cell_id = 3;\n",
       "                var nbb_unformatted_code = \"# | export\\nimport torch\\nimport json\\nfrom dataclasses import dataclass, asdict\";\n",
       "                var nbb_formatted_code = \"# | export\\nimport torch\\nimport json\\nfrom dataclasses import dataclass, asdict\";\n",
       "                var nbb_cells = Jupyter.notebook.get_cells();\n",
       "                for (var i = 0; i < nbb_cells.length; ++i) {\n",
       "                    if (nbb_cells[i].input_prompt_number == nbb_cell_id) {\n",
       "                        if (nbb_cells[i].get_text() == nbb_unformatted_code) {\n",
       "                             nbb_cells[i].set_text(nbb_formatted_code);\n",
       "                        }\n",
       "                        break;\n",
       "                    }\n",
       "                }\n",
       "            }, 500);\n",
       "            "
      ],
      "text/plain": [
       "<IPython.core.display.Javascript object>"
      ]
     },
     "metadata": {},
     "output_type": "display_data"
    }
   ],
   "source": [
    "# | export\n",
    "import torch\n",
    "import json\n",
    "from dataclasses import dataclass, asdict"
   ]
  },
  {
   "cell_type": "code",
   "execution_count": 4,
   "metadata": {},
   "outputs": [
    {
     "data": {
      "application/javascript": [
       "\n",
       "            setTimeout(function() {\n",
       "                var nbb_cell_id = 4;\n",
       "                var nbb_unformatted_code = \"# | export\\n\\n\\n@dataclass\\nclass Config:\\n    # Diffusion hyperparameters\\n    timesteps: int = 1000\\n    beta1: float = 1e-4\\n    beta2: float = 0.02\\n\\n    # Network hyperparameters\\n    device: str = \\\"cuda\\\" if torch.cuda.is_available() else \\\"cpu\\\"\\n    n_feat: int = 64  # number of hidden dimensions of the feature\\n    n_cfeat: int = 5  # context vector is of size 5\\n    height: int = 16  # image size is 16x16\\n    save_dir: str = \\\"./weights\\\"\\n\\n    # Training hyperparameters\\n    batch_size: int = 100\\n    n_epoch: int = 32\\n    lrate: float = 1e-3\\n\\n    def to_json_string(self):\\n        return json.dumps(asdict(self), indent=4)\";\n",
       "                var nbb_formatted_code = \"# | export\\n\\n\\n@dataclass\\nclass Config:\\n    # Diffusion hyperparameters\\n    timesteps: int = 1000\\n    beta1: float = 1e-4\\n    beta2: float = 0.02\\n\\n    # Network hyperparameters\\n    device: str = \\\"cuda\\\" if torch.cuda.is_available() else \\\"cpu\\\"\\n    n_feat: int = 64  # number of hidden dimensions of the feature\\n    n_cfeat: int = 5  # context vector is of size 5\\n    height: int = 16  # image size is 16x16\\n    save_dir: str = \\\"./weights\\\"\\n\\n    # Training hyperparameters\\n    batch_size: int = 100\\n    n_epoch: int = 32\\n    lrate: float = 1e-3\\n\\n    def to_json_string(self):\\n        return json.dumps(asdict(self), indent=4)\";\n",
       "                var nbb_cells = Jupyter.notebook.get_cells();\n",
       "                for (var i = 0; i < nbb_cells.length; ++i) {\n",
       "                    if (nbb_cells[i].input_prompt_number == nbb_cell_id) {\n",
       "                        if (nbb_cells[i].get_text() == nbb_unformatted_code) {\n",
       "                             nbb_cells[i].set_text(nbb_formatted_code);\n",
       "                        }\n",
       "                        break;\n",
       "                    }\n",
       "                }\n",
       "            }, 500);\n",
       "            "
      ],
      "text/plain": [
       "<IPython.core.display.Javascript object>"
      ]
     },
     "metadata": {},
     "output_type": "display_data"
    }
   ],
   "source": [
    "# | export\n",
    "\n",
    "\n",
    "@dataclass\n",
    "class Config:\n",
    "    # Diffusion hyperparameters\n",
    "    timesteps: int = 1000\n",
    "    beta1: float = 1e-4\n",
    "    beta2: float = 0.02\n",
    "\n",
    "    # Network hyperparameters\n",
    "    device: str = \"cuda\" if torch.cuda.is_available() else \"cpu\"\n",
    "    n_feat: int = 64  # number of hidden dimensions of the feature\n",
    "    n_cfeat: int = 5  # context vector is of size 5\n",
    "    height: int = 16  # image size is 16x16\n",
    "    save_dir: str = \"./weights\"\n",
    "\n",
    "    # Training hyperparameters\n",
    "    batch_size: int = 100\n",
    "    n_epoch: int = 32\n",
    "    lrate: float = 1e-3\n",
    "\n",
    "    def to_json_string(self):\n",
    "        return json.dumps(asdict(self), indent=4)"
   ]
  },
  {
   "cell_type": "code",
   "execution_count": 5,
   "metadata": {},
   "outputs": [
    {
     "data": {
      "application/javascript": [
       "\n",
       "            setTimeout(function() {\n",
       "                var nbb_cell_id = 5;\n",
       "                var nbb_unformatted_code = \"# | hide\\nimport nbdev\\n\\nnbdev.nbdev_export()\";\n",
       "                var nbb_formatted_code = \"# | hide\\nimport nbdev\\n\\nnbdev.nbdev_export()\";\n",
       "                var nbb_cells = Jupyter.notebook.get_cells();\n",
       "                for (var i = 0; i < nbb_cells.length; ++i) {\n",
       "                    if (nbb_cells[i].input_prompt_number == nbb_cell_id) {\n",
       "                        if (nbb_cells[i].get_text() == nbb_unformatted_code) {\n",
       "                             nbb_cells[i].set_text(nbb_formatted_code);\n",
       "                        }\n",
       "                        break;\n",
       "                    }\n",
       "                }\n",
       "            }, 500);\n",
       "            "
      ],
      "text/plain": [
       "<IPython.core.display.Javascript object>"
      ]
     },
     "metadata": {},
     "output_type": "display_data"
    }
   ],
   "source": [
    "# | hide\n",
    "import nbdev\n",
    "\n",
    "nbdev.nbdev_export()"
   ]
  }
 ],
 "metadata": {
  "kernelspec": {
   "display_name": "mcvp-book",
   "language": "python",
   "name": "mcvp-book"
  },
  "language_info": {
   "codemirror_mode": {
    "name": "ipython",
    "version": 3
   },
   "file_extension": ".py",
   "mimetype": "text/x-python",
   "name": "python",
   "nbconvert_exporter": "python",
   "pygments_lexer": "ipython3",
   "version": "3.8.18"
  }
 },
 "nbformat": 4,
 "nbformat_minor": 4
}
