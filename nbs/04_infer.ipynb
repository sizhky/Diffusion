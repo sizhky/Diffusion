{
 "cells": [
  {
   "cell_type": "markdown",
   "metadata": {},
   "source": [
    "# Train\n",
    "\n",
    "> Dev Notebook"
   ]
  },
  {
   "cell_type": "code",
   "execution_count": 1,
   "metadata": {},
   "outputs": [],
   "source": [
    "#| default_exp infer"
   ]
  },
  {
   "cell_type": "code",
   "execution_count": 2,
   "metadata": {},
   "outputs": [
    {
     "data": {
      "application/javascript": [
       "\n",
       "            setTimeout(function() {\n",
       "                var nbb_cell_id = 2;\n",
       "                var nbb_unformatted_code = \"# | hide\\n# | hide\\n%reload_ext autoreload\\n%reload_ext nb_black\\n%autoreload 2\\nfrom nbdev.showdoc import *\\nimport sys\\n\\n__root = \\\"../\\\"\\nsys.path.append(__root)\";\n",
       "                var nbb_formatted_code = \"# | hide\\n# | hide\\n%reload_ext autoreload\\n%reload_ext nb_black\\n%autoreload 2\\nfrom nbdev.showdoc import *\\nimport sys\\n\\n__root = \\\"../\\\"\\nsys.path.append(__root)\";\n",
       "                var nbb_cells = Jupyter.notebook.get_cells();\n",
       "                for (var i = 0; i < nbb_cells.length; ++i) {\n",
       "                    if (nbb_cells[i].input_prompt_number == nbb_cell_id) {\n",
       "                        if (nbb_cells[i].get_text() == nbb_unformatted_code) {\n",
       "                             nbb_cells[i].set_text(nbb_formatted_code);\n",
       "                        }\n",
       "                        break;\n",
       "                    }\n",
       "                }\n",
       "            }, 500);\n",
       "            "
      ],
      "text/plain": [
       "<IPython.core.display.Javascript object>"
      ]
     },
     "metadata": {},
     "output_type": "display_data"
    }
   ],
   "source": [
    "# | hide\n",
    "# | hide\n",
    "%reload_ext autoreload\n",
    "%reload_ext nb_black\n",
    "%autoreload 2\n",
    "from nbdev.showdoc import *\n",
    "import sys\n",
    "\n",
    "__root = \"../\"\n",
    "sys.path.append(__root)"
   ]
  },
  {
   "cell_type": "code",
   "execution_count": 3,
   "metadata": {},
   "outputs": [
    {
     "data": {
      "application/javascript": [
       "\n",
       "            setTimeout(function() {\n",
       "                var nbb_cell_id = 3;\n",
       "                var nbb_unformatted_code = \"# | export\\nfrom torch_snippets import *\\nfrom diffusion.config import Config\\nfrom diffusion.models import *\\nfrom diffusion.dataset import *\\nfrom diffusion.train import construct_noise_schedules\";\n",
       "                var nbb_formatted_code = \"# | export\\nfrom torch_snippets import *\\nfrom diffusion.config import Config\\nfrom diffusion.models import *\\nfrom diffusion.dataset import *\\nfrom diffusion.train import construct_noise_schedules\";\n",
       "                var nbb_cells = Jupyter.notebook.get_cells();\n",
       "                for (var i = 0; i < nbb_cells.length; ++i) {\n",
       "                    if (nbb_cells[i].input_prompt_number == nbb_cell_id) {\n",
       "                        if (nbb_cells[i].get_text() == nbb_unformatted_code) {\n",
       "                             nbb_cells[i].set_text(nbb_formatted_code);\n",
       "                        }\n",
       "                        break;\n",
       "                    }\n",
       "                }\n",
       "            }, 500);\n",
       "            "
      ],
      "text/plain": [
       "<IPython.core.display.Javascript object>"
      ]
     },
     "metadata": {},
     "output_type": "display_data"
    }
   ],
   "source": [
    "# | export\n",
    "from torch_snippets import *\n",
    "from diffusion.config import Config\n",
    "from diffusion.models import *\n",
    "from diffusion.dataset import *\n",
    "from diffusion.train import construct_noise_schedules"
   ]
  },
  {
   "cell_type": "code",
   "execution_count": 6,
   "metadata": {},
   "outputs": [
    {
     "data": {
      "application/javascript": [
       "\n",
       "            setTimeout(function() {\n",
       "                var nbb_cell_id = 6;\n",
       "                var nbb_unformatted_code = \"#| export\\ndef denoise_add_noise(x, t, pred_noise, config, z=None):\\n    ab_t, a_t, b_t = construct_noise_schedules(config)\\n    if z is None:\\n        z = torch.randn_like(x)\\n    noise = b_t.sqrt()[t] * z\\n    mean = (x - pred_noise * ((1 - a_t[t]) / (1 - ab_t[t]).sqrt())) / a_t[t].sqrt()\\n    return mean + noise\\n\\n@torch.no_grad()\\ndef sample_ddpm(nn_model, n_sample, config, save_rate=20):\\n    c = config\\n    samples = torch.randn(n_sample, 3, c.height, c.height).to(device)\\n    # array to keep track of generated steps for plotting\\n    intermediate = []\\n    for i in (tracker:=track2(range(c.timesteps, 0, -1), total=c.timesteps)):\\n        tracker.send(f'sampling timestep {i:3d}')\\n        # reshape time tensor\\n        t = torch.tensor([i / c.timesteps])[:, None, None, None].to(device)\\n        # sample some random noise to inject back in. For i = 1, don't add back in noise\\n        z = torch.randn_like(samples) if i > 1 else 0\\n        eps = nn_model(samples, t)    # predict noise e_(x_t,t)\\n        samples = denoise_add_noise(samples, i, eps, config=config, z=z)\\n        if i % save_rate ==0 or i==c.timesteps or i<8:\\n            intermediate.append(samples.detach().cpu().numpy())\\n    intermediate = np.stack(intermediate)\\n    return samples, intermediate\";\n",
       "                var nbb_formatted_code = \"# | export\\ndef denoise_add_noise(x, t, pred_noise, config, z=None):\\n    ab_t, a_t, b_t = construct_noise_schedules(config)\\n    if z is None:\\n        z = torch.randn_like(x)\\n    noise = b_t.sqrt()[t] * z\\n    mean = (x - pred_noise * ((1 - a_t[t]) / (1 - ab_t[t]).sqrt())) / a_t[t].sqrt()\\n    return mean + noise\\n\\n\\n@torch.no_grad()\\ndef sample_ddpm(nn_model, n_sample, config, save_rate=20):\\n    c = config\\n    samples = torch.randn(n_sample, 3, c.height, c.height).to(device)\\n    # array to keep track of generated steps for plotting\\n    intermediate = []\\n    for i in (tracker := track2(range(c.timesteps, 0, -1), total=c.timesteps)):\\n        tracker.send(f\\\"sampling timestep {i:3d}\\\")\\n        # reshape time tensor\\n        t = torch.tensor([i / c.timesteps])[:, None, None, None].to(device)\\n        # sample some random noise to inject back in. For i = 1, don't add back in noise\\n        z = torch.randn_like(samples) if i > 1 else 0\\n        eps = nn_model(samples, t)  # predict noise e_(x_t,t)\\n        samples = denoise_add_noise(samples, i, eps, config=config, z=z)\\n        if i % save_rate == 0 or i == c.timesteps or i < 8:\\n            intermediate.append(samples.detach().cpu().numpy())\\n    intermediate = np.stack(intermediate)\\n    return samples, intermediate\";\n",
       "                var nbb_cells = Jupyter.notebook.get_cells();\n",
       "                for (var i = 0; i < nbb_cells.length; ++i) {\n",
       "                    if (nbb_cells[i].input_prompt_number == nbb_cell_id) {\n",
       "                        if (nbb_cells[i].get_text() == nbb_unformatted_code) {\n",
       "                             nbb_cells[i].set_text(nbb_formatted_code);\n",
       "                        }\n",
       "                        break;\n",
       "                    }\n",
       "                }\n",
       "            }, 500);\n",
       "            "
      ],
      "text/plain": [
       "<IPython.core.display.Javascript object>"
      ]
     },
     "metadata": {},
     "output_type": "display_data"
    }
   ],
   "source": [
    "#| export\n",
    "def denoise_add_noise(x, t, pred_noise, config, z=None):\n",
    "    ab_t, a_t, b_t = construct_noise_schedules(config)\n",
    "    if z is None:\n",
    "        z = torch.randn_like(x)\n",
    "    noise = b_t.sqrt()[t] * z\n",
    "    mean = (x - pred_noise * ((1 - a_t[t]) / (1 - ab_t[t]).sqrt())) / a_t[t].sqrt()\n",
    "    return mean + noise\n",
    "\n",
    "@torch.no_grad()\n",
    "def sample_ddpm(nn_model, n_sample, config, save_rate=20):\n",
    "    c = config\n",
    "    samples = torch.randn(n_sample, 3, c.height, c.height).to(device)\n",
    "    # array to keep track of generated steps for plotting\n",
    "    intermediate = []\n",
    "    for i in (tracker:=track2(range(c.timesteps, 0, -1), total=c.timesteps)):\n",
    "        tracker.send(f'sampling timestep {i:3d}')\n",
    "        # reshape time tensor\n",
    "        t = torch.tensor([i / c.timesteps])[:, None, None, None].to(device)\n",
    "        # sample some random noise to inject back in. For i = 1, don't add back in noise\n",
    "        z = torch.randn_like(samples) if i > 1 else 0\n",
    "        eps = nn_model(samples, t)    # predict noise e_(x_t,t)\n",
    "        samples = denoise_add_noise(samples, i, eps, config=config, z=z)\n",
    "        if i % save_rate ==0 or i==c.timesteps or i<8:\n",
    "            intermediate.append(samples.detach().cpu().numpy())\n",
    "    intermediate = np.stack(intermediate)\n",
    "    return samples, intermediate\n"
   ]
  },
  {
   "cell_type": "code",
   "execution_count": 5,
   "metadata": {},
   "outputs": [
    {
     "data": {
      "application/javascript": [
       "\n",
       "            setTimeout(function() {\n",
       "                var nbb_cell_id = 5;\n",
       "                var nbb_unformatted_code = \"# | hide\\nimport nbdev\\nnbdev.nbdev_export()\";\n",
       "                var nbb_formatted_code = \"# | hide\\nimport nbdev\\n\\nnbdev.nbdev_export()\";\n",
       "                var nbb_cells = Jupyter.notebook.get_cells();\n",
       "                for (var i = 0; i < nbb_cells.length; ++i) {\n",
       "                    if (nbb_cells[i].input_prompt_number == nbb_cell_id) {\n",
       "                        if (nbb_cells[i].get_text() == nbb_unformatted_code) {\n",
       "                             nbb_cells[i].set_text(nbb_formatted_code);\n",
       "                        }\n",
       "                        break;\n",
       "                    }\n",
       "                }\n",
       "            }, 500);\n",
       "            "
      ],
      "text/plain": [
       "<IPython.core.display.Javascript object>"
      ]
     },
     "metadata": {},
     "output_type": "display_data"
    }
   ],
   "source": [
    "# | hide\n",
    "import nbdev\n",
    "\n",
    "nbdev.nbdev_export()"
   ]
  }
 ],
 "metadata": {
  "kernelspec": {
   "display_name": "mcvp-book",
   "language": "python",
   "name": "mcvp-book"
  },
  "language_info": {
   "codemirror_mode": {
    "name": "ipython",
    "version": 3
   },
   "file_extension": ".py",
   "mimetype": "text/x-python",
   "name": "python",
   "nbconvert_exporter": "python",
   "pygments_lexer": "ipython3",
   "version": "3.8.18"
  }
 },
 "nbformat": 4,
 "nbformat_minor": 4
}
