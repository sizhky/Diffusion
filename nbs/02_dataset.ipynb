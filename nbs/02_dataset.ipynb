{
 "cells": [
  {
   "cell_type": "markdown",
   "metadata": {},
   "source": [
    "# Dataset\n",
    "\n",
    "> Dev Notebook"
   ]
  },
  {
   "cell_type": "code",
   "execution_count": 1,
   "metadata": {},
   "outputs": [],
   "source": [
    "# | default_exp dataset"
   ]
  },
  {
   "cell_type": "code",
   "execution_count": 2,
   "metadata": {},
   "outputs": [
    {
     "data": {
      "application/javascript": [
       "\n",
       "            setTimeout(function() {\n",
       "                var nbb_cell_id = 2;\n",
       "                var nbb_unformatted_code = \"# | hide\\n# | hide\\n%reload_ext autoreload\\n%reload_ext nb_black\\n%autoreload 2\\nfrom nbdev.showdoc import *\\nimport sys\\n\\n__root = \\\"../\\\"\\nsys.path.append(__root)\";\n",
       "                var nbb_formatted_code = \"# | hide\\n# | hide\\n%reload_ext autoreload\\n%reload_ext nb_black\\n%autoreload 2\\nfrom nbdev.showdoc import *\\nimport sys\\n\\n__root = \\\"../\\\"\\nsys.path.append(__root)\";\n",
       "                var nbb_cells = Jupyter.notebook.get_cells();\n",
       "                for (var i = 0; i < nbb_cells.length; ++i) {\n",
       "                    if (nbb_cells[i].input_prompt_number == nbb_cell_id) {\n",
       "                        if (nbb_cells[i].get_text() == nbb_unformatted_code) {\n",
       "                             nbb_cells[i].set_text(nbb_formatted_code);\n",
       "                        }\n",
       "                        break;\n",
       "                    }\n",
       "                }\n",
       "            }, 500);\n",
       "            "
      ],
      "text/plain": [
       "<IPython.core.display.Javascript object>"
      ]
     },
     "metadata": {},
     "output_type": "display_data"
    }
   ],
   "source": [
    "# | hide\n",
    "# | hide\n",
    "%reload_ext autoreload\n",
    "%reload_ext nb_black\n",
    "%autoreload 2\n",
    "from nbdev.showdoc import *\n",
    "import sys\n",
    "\n",
    "__root = \"../\"\n",
    "sys.path.append(__root)"
   ]
  },
  {
   "cell_type": "code",
   "execution_count": 3,
   "metadata": {},
   "outputs": [
    {
     "data": {
      "application/javascript": [
       "\n",
       "            setTimeout(function() {\n",
       "                var nbb_cell_id = 3;\n",
       "                var nbb_unformatted_code = \"# | export\\nimport requests\\nfrom torch_snippets import *\\nimport torchvision.transforms as transforms\";\n",
       "                var nbb_formatted_code = \"# | export\\nimport requests\\nfrom torch_snippets import *\\nimport torchvision.transforms as transforms\";\n",
       "                var nbb_cells = Jupyter.notebook.get_cells();\n",
       "                for (var i = 0; i < nbb_cells.length; ++i) {\n",
       "                    if (nbb_cells[i].input_prompt_number == nbb_cell_id) {\n",
       "                        if (nbb_cells[i].get_text() == nbb_unformatted_code) {\n",
       "                             nbb_cells[i].set_text(nbb_formatted_code);\n",
       "                        }\n",
       "                        break;\n",
       "                    }\n",
       "                }\n",
       "            }, 500);\n",
       "            "
      ],
      "text/plain": [
       "<IPython.core.display.Javascript object>"
      ]
     },
     "metadata": {},
     "output_type": "display_data"
    }
   ],
   "source": [
    "# | export\n",
    "import requests\n",
    "from torch_snippets import *\n",
    "import torchvision.transforms as transforms"
   ]
  },
  {
   "cell_type": "code",
   "execution_count": 4,
   "metadata": {},
   "outputs": [
    {
     "data": {
      "application/javascript": [
       "\n",
       "            setTimeout(function() {\n",
       "                var nbb_cell_id = 4;\n",
       "                var nbb_unformatted_code = \"# | export\\n\\n\\ndef _download(url, output_file):\\n    response = requests.get(url, stream=True)\\n    if response.status_code == 200:\\n        with open(output_file, \\\"wb\\\") as file:\\n            for chunk in response.iter_content(chunk_size=8192):\\n                if chunk:\\n                    file.write(chunk)\\n        Info(f\\\"File '{output_file}' downloaded successfully.\\\")\\n    else:\\n        Info(f\\\"Failed to download the file. Status code: {response.status_code}\\\")\\n\\n\\ndef download_faces_dataset(download_directory):\\n    url = \\\"https://www.dropbox.com/scl/fi/2a99eiciulqbz656mqb81/faces4.zip?rlkey=olc6q1bp4p4mg82728ljg4n21\\\"\\n    output_file = \\\"faces4.zip\\\"\\n    with notify_waiting(\\\"Downloading faces dataset\\\"):\\n        _download(url, output_file)\\n    unzip_file(\\\"faces4.zip\\\", download_directory)\\n    P(output_file).rm(force=True)\";\n",
       "                var nbb_formatted_code = \"# | export\\n\\n\\ndef _download(url, output_file):\\n    response = requests.get(url, stream=True)\\n    if response.status_code == 200:\\n        with open(output_file, \\\"wb\\\") as file:\\n            for chunk in response.iter_content(chunk_size=8192):\\n                if chunk:\\n                    file.write(chunk)\\n        Info(f\\\"File '{output_file}' downloaded successfully.\\\")\\n    else:\\n        Info(f\\\"Failed to download the file. Status code: {response.status_code}\\\")\\n\\n\\ndef download_faces_dataset(download_directory):\\n    url = \\\"https://www.dropbox.com/scl/fi/2a99eiciulqbz656mqb81/faces4.zip?rlkey=olc6q1bp4p4mg82728ljg4n21\\\"\\n    output_file = \\\"faces4.zip\\\"\\n    with notify_waiting(\\\"Downloading faces dataset\\\"):\\n        _download(url, output_file)\\n    unzip_file(\\\"faces4.zip\\\", download_directory)\\n    P(output_file).rm(force=True)\";\n",
       "                var nbb_cells = Jupyter.notebook.get_cells();\n",
       "                for (var i = 0; i < nbb_cells.length; ++i) {\n",
       "                    if (nbb_cells[i].input_prompt_number == nbb_cell_id) {\n",
       "                        if (nbb_cells[i].get_text() == nbb_unformatted_code) {\n",
       "                             nbb_cells[i].set_text(nbb_formatted_code);\n",
       "                        }\n",
       "                        break;\n",
       "                    }\n",
       "                }\n",
       "            }, 500);\n",
       "            "
      ],
      "text/plain": [
       "<IPython.core.display.Javascript object>"
      ]
     },
     "metadata": {},
     "output_type": "display_data"
    }
   ],
   "source": [
    "# | export\n",
    "\n",
    "\n",
    "def _download(url, output_file):\n",
    "    response = requests.get(url, stream=True)\n",
    "    if response.status_code == 200:\n",
    "        with open(output_file, \"wb\") as file:\n",
    "            for chunk in response.iter_content(chunk_size=8192):\n",
    "                if chunk:\n",
    "                    file.write(chunk)\n",
    "        Info(f\"File '{output_file}' downloaded successfully.\")\n",
    "    else:\n",
    "        Info(f\"Failed to download the file. Status code: {response.status_code}\")\n",
    "\n",
    "\n",
    "def download_faces_dataset(download_directory):\n",
    "    url = \"https://www.dropbox.com/scl/fi/2a99eiciulqbz656mqb81/faces4.zip?rlkey=olc6q1bp4p4mg82728ljg4n21\"\n",
    "    output_file = \"faces4.zip\"\n",
    "    with notify_waiting(\"Downloading faces dataset\"):\n",
    "        _download(url, output_file)\n",
    "    unzip_file(\"faces4.zip\", download_directory)\n",
    "    P(output_file).rm(force=True)"
   ]
  },
  {
   "cell_type": "code",
   "execution_count": 5,
   "metadata": {},
   "outputs": [
    {
     "data": {
      "application/javascript": [
       "\n",
       "            setTimeout(function() {\n",
       "                var nbb_cell_id = 5;\n",
       "                var nbb_unformatted_code = \"# | export\\ntransform = transforms.Compose(\\n    [\\n        transforms.ToTensor(),  # from [0,255] to range [0.0,1.0]\\n        transforms.Normalize((0.5,), (0.5,)),  # range [-1,1]\\n    ]\\n)\\n\\nclass CustomDataset(Dataset):\\n    def __init__(self, sfilename, lfilename, transform=transform):\\n        self.sprites = np.load(sfilename)\\n        Info(f\\\"sprite shape: {self.sprites.shape}\\\")\\n        self.transform = transform\\n        self.sprites_shape = self.sprites.shape\\n\\n    def __len__(self):\\n        return len(self.sprites)\\n\\n    def __getitem__(self, ix):\\n        image = self.transform(self.sprites[ix])\\n        return image\";\n",
       "                var nbb_formatted_code = \"# | export\\ntransform = transforms.Compose(\\n    [\\n        transforms.ToTensor(),  # from [0,255] to range [0.0,1.0]\\n        transforms.Normalize((0.5,), (0.5,)),  # range [-1,1]\\n    ]\\n)\\n\\n\\nclass CustomDataset(Dataset):\\n    def __init__(self, sfilename, lfilename, transform=transform):\\n        self.sprites = np.load(sfilename)\\n        Info(f\\\"sprite shape: {self.sprites.shape}\\\")\\n        self.transform = transform\\n        self.sprites_shape = self.sprites.shape\\n\\n    def __len__(self):\\n        return len(self.sprites)\\n\\n    def __getitem__(self, ix):\\n        image = self.transform(self.sprites[ix])\\n        return image\";\n",
       "                var nbb_cells = Jupyter.notebook.get_cells();\n",
       "                for (var i = 0; i < nbb_cells.length; ++i) {\n",
       "                    if (nbb_cells[i].input_prompt_number == nbb_cell_id) {\n",
       "                        if (nbb_cells[i].get_text() == nbb_unformatted_code) {\n",
       "                             nbb_cells[i].set_text(nbb_formatted_code);\n",
       "                        }\n",
       "                        break;\n",
       "                    }\n",
       "                }\n",
       "            }, 500);\n",
       "            "
      ],
      "text/plain": [
       "<IPython.core.display.Javascript object>"
      ]
     },
     "metadata": {},
     "output_type": "display_data"
    }
   ],
   "source": [
    "# | export\n",
    "transform = transforms.Compose(\n",
    "    [\n",
    "        transforms.ToTensor(),  # from [0,255] to range [0.0,1.0]\n",
    "        transforms.Normalize((0.5,), (0.5,)),  # range [-1,1]\n",
    "    ]\n",
    ")\n",
    "\n",
    "class CustomDataset(Dataset):\n",
    "    def __init__(self, sfilename, transform=transform):\n",
    "        self.sprites = np.load(sfilename)\n",
    "        Info(f\"sprite shape: {self.sprites.shape}\")\n",
    "        self.transform = transform\n",
    "        self.sprites_shape = self.sprites.shape\n",
    "\n",
    "    def __len__(self):\n",
    "        return len(self.sprites)\n",
    "\n",
    "    def __getitem__(self, ix):\n",
    "        image = self.transform(self.sprites[ix])\n",
    "        return {'image': image}\n"
   ]
  },
  {
   "cell_type": "code",
   "execution_count": 6,
   "metadata": {},
   "outputs": [
    {
     "data": {
      "application/javascript": [
       "\n",
       "            setTimeout(function() {\n",
       "                var nbb_cell_id = 6;\n",
       "                var nbb_unformatted_code = \"# | hide\\nimport nbdev\\n\\nnbdev.nbdev_export()\";\n",
       "                var nbb_formatted_code = \"# | hide\\nimport nbdev\\n\\nnbdev.nbdev_export()\";\n",
       "                var nbb_cells = Jupyter.notebook.get_cells();\n",
       "                for (var i = 0; i < nbb_cells.length; ++i) {\n",
       "                    if (nbb_cells[i].input_prompt_number == nbb_cell_id) {\n",
       "                        if (nbb_cells[i].get_text() == nbb_unformatted_code) {\n",
       "                             nbb_cells[i].set_text(nbb_formatted_code);\n",
       "                        }\n",
       "                        break;\n",
       "                    }\n",
       "                }\n",
       "            }, 500);\n",
       "            "
      ],
      "text/plain": [
       "<IPython.core.display.Javascript object>"
      ]
     },
     "metadata": {},
     "output_type": "display_data"
    }
   ],
   "source": [
    "# | hide\n",
    "import nbdev\n",
    "\n",
    "nbdev.nbdev_export()"
   ]
  },
  {
   "cell_type": "code",
   "execution_count": null,
   "metadata": {},
   "outputs": [],
   "source": []
  }
 ],
 "metadata": {
  "kernelspec": {
   "display_name": "mcvp-book",
   "language": "python",
   "name": "mcvp-book"
  },
  "language_info": {
   "codemirror_mode": {
    "name": "ipython",
    "version": 3
   },
   "file_extension": ".py",
   "mimetype": "text/x-python",
   "name": "python",
   "nbconvert_exporter": "python",
   "pygments_lexer": "ipython3",
   "version": "3.8.18"
  }
 },
 "nbformat": 4,
 "nbformat_minor": 4
}
